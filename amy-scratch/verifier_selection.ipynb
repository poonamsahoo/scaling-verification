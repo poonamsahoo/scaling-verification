{
 "cells": [
  {
   "cell_type": "code",
   "execution_count": 10,
   "id": "95c2f4bc",
   "metadata": {},
   "outputs": [
    {
     "name": "stdout",
     "output_type": "stream",
     "text": [
      "The autoreload extension is already loaded. To reload it, use:\n",
      "  %reload_ext autoreload\n"
     ]
    }
   ],
   "source": [
    "%load_ext autoreload\n",
    "%autoreload 2"
   ]
  },
  {
   "cell_type": "code",
   "execution_count": null,
   "id": "a8ec73ce",
   "metadata": {},
   "outputs": [],
   "source": [
    "import utils\n",
    "import matplotlib.pyplot as plt\n",
    "import numpy as np"
   ]
  },
  {
   "cell_type": "code",
   "execution_count": null,
   "id": "a934bd4a",
   "metadata": {},
   "outputs": [
    {
     "data": {
      "application/vnd.jupyter.widget-view+json": {
       "model_id": "55477bef004b4d73bd176b9a920a2261",
       "version_major": 2,
       "version_minor": 0
      },
      "text/plain": [
       "README.md: 0.00B [00:00, ?B/s]"
      ]
     },
     "metadata": {},
     "output_type": "display_data"
    },
    {
     "data": {
      "application/vnd.jupyter.widget-view+json": {
       "model_id": "66b371f731fb499687900e73ae7c1b69",
       "version_major": 2,
       "version_minor": 0
      },
      "text/plain": [
       "data/data-00000-of-00001.parquet:   0%|          | 0.00/23.9M [00:00<?, ?B/s]"
      ]
     },
     "metadata": {},
     "output_type": "display_data"
    },
    {
     "data": {
      "application/vnd.jupyter.widget-view+json": {
       "model_id": "a599d517f31b4304bc7c05d3734efe2f",
       "version_major": 2,
       "version_minor": 0
      },
      "text/plain": [
       "Generating data split:   0%|          | 0/500 [00:00<?, ? examples/s]"
      ]
     },
     "metadata": {},
     "output_type": "display_data"
    }
   ],
   "source": [
    "dataset = utils.load_dataset('pnsahoo/MATH500_with_Llama_3.1_70B_Instruct_v1_truncated_K_50')\n",
    "dev_ds, val_ds, test_ds = utils.dev_test_split(dataset)"
   ]
  },
  {
   "cell_type": "code",
   "execution_count": 61,
   "id": "17b8df60",
   "metadata": {},
   "outputs": [
    {
     "data": {
      "application/vnd.jupyter.widget-view+json": {
       "model_id": "ad9f1cb940a644c38bfe54cd1aa4ecc5",
       "version_major": 2,
       "version_minor": 0
      },
      "text/plain": [
       "Uploading the dataset shards:   0%|          | 0/1 [00:00<?, ? shards/s]"
      ]
     },
     "metadata": {},
     "output_type": "display_data"
    },
    {
     "data": {
      "application/vnd.jupyter.widget-view+json": {
       "model_id": "bdd3944275294cb7b3d8a38262385c4b",
       "version_major": 2,
       "version_minor": 0
      },
      "text/plain": [
       "Creating parquet from Arrow format:   0%|          | 0/1 [00:00<?, ?ba/s]"
      ]
     },
     "metadata": {},
     "output_type": "display_data"
    },
    {
     "data": {
      "application/vnd.jupyter.widget-view+json": {
       "model_id": "ef2be74affe3490eb4ad276a5eb53cb4",
       "version_major": 2,
       "version_minor": 0
      },
      "text/plain": [
       "Processing Files (0 / 0): |          |  0.00B /  0.00B            "
      ]
     },
     "metadata": {},
     "output_type": "display_data"
    },
    {
     "data": {
      "application/vnd.jupyter.widget-view+json": {
       "model_id": "82fc768ec1834be38a3310aaee402233",
       "version_major": 2,
       "version_minor": 0
      },
      "text/plain": [
       "New Data Upload: |          |  0.00B /  0.00B            "
      ]
     },
     "metadata": {},
     "output_type": "display_data"
    },
    {
     "name": "stdout",
     "output_type": "stream",
     "text": [
      "✅ Published to: https://huggingface.co/datasets/amyguan/math500-k50-test\n"
     ]
    }
   ],
   "source": [
    "# Publish test_ds to HuggingFace Hub\n",
    "from datasets import DatasetDict\n",
    "from huggingface_hub import login\n",
    "\n",
    "# Login to HuggingFace (if not already logged in)\n",
    "# Option 1: Use environment variable HF_TOKEN\n",
    "# Option 2: Interactive login - uncomment below:\n",
    "# login()\n",
    "\n",
    "# Replace \"your-username\" and \"dataset-name\" with your desired repo\n",
    "repo_id = \"amyguan/math500-k50-test\"\n",
    "\n",
    "# Wrap in DatasetDict with \"data\" split (matches original format)\n",
    "dataset_dict = DatasetDict({\"data\": test_ds})\n",
    "\n",
    "# Push to hub\n",
    "dataset_dict.push_to_hub(repo_id, private=False)  # Set private=True for private repo\n",
    "print(f\"✅ Published to: https://huggingface.co/datasets/{repo_id}\")"
   ]
  },
  {
   "cell_type": "code",
   "execution_count": 80,
   "id": "fed28a49",
   "metadata": {},
   "outputs": [
    {
     "data": {
      "application/vnd.jupyter.widget-view+json": {
       "model_id": "c5b521a085ef4efea78bd5703688f251",
       "version_major": 2,
       "version_minor": 0
      },
      "text/plain": [
       "Uploading the dataset shards:   0%|          | 0/1 [00:00<?, ? shards/s]"
      ]
     },
     "metadata": {},
     "output_type": "display_data"
    },
    {
     "data": {
      "application/vnd.jupyter.widget-view+json": {
       "model_id": "e3c9ee3fc3414d3d9f07f416b7f6cad7",
       "version_major": 2,
       "version_minor": 0
      },
      "text/plain": [
       "Creating parquet from Arrow format:   0%|          | 0/1 [00:00<?, ?ba/s]"
      ]
     },
     "metadata": {},
     "output_type": "display_data"
    },
    {
     "data": {
      "application/vnd.jupyter.widget-view+json": {
       "model_id": "781697747c2d4431861c831ce6fd508e",
       "version_major": 2,
       "version_minor": 0
      },
      "text/plain": [
       "Processing Files (0 / 0): |          |  0.00B /  0.00B            "
      ]
     },
     "metadata": {},
     "output_type": "display_data"
    },
    {
     "data": {
      "application/vnd.jupyter.widget-view+json": {
       "model_id": "9bd03fb36aea46088d1f01980935f548",
       "version_major": 2,
       "version_minor": 0
      },
      "text/plain": [
       "New Data Upload: |          |  0.00B /  0.00B            "
      ]
     },
     "metadata": {},
     "output_type": "display_data"
    },
    {
     "name": "stdout",
     "output_type": "stream",
     "text": [
      "✅ Published to: https://huggingface.co/datasets/amyguan/math500-k50-dev\n"
     ]
    }
   ],
   "source": [
    "repo_id = \"amyguan/math500-k50-dev\"\n",
    "\n",
    "# Wrap in DatasetDict with \"data\" split (matches original format)\n",
    "dataset_dict = DatasetDict({\"data\": dev_ds})\n",
    "\n",
    "# Push to hub\n",
    "dataset_dict.push_to_hub(repo_id, private=False)  # Set private=True for private repo\n",
    "print(f\"✅ Published to: https://huggingface.co/datasets/{repo_id}\")"
   ]
  },
  {
   "cell_type": "code",
   "execution_count": 75,
   "id": "bae89570",
   "metadata": {},
   "outputs": [
    {
     "name": "stdout",
     "output_type": "stream",
     "text": [
      "Number of verifiers: 35\n",
      "Ground truth shape: (5000,)\n",
      "Overall accuracy: 0.801\n",
      "Built parameter count vector. Missing: 0 of 35\n"
     ]
    }
   ],
   "source": [
    "### DO ON THE DEV SET FOR MODEL SELECTION ###\n",
    "scores_matrix, verifier_names = utils.extract_scores_matrix(dev_ds)\n",
    "similarities = utils.similarities_dict(scores_matrix)\n",
    "utilities = utils.utilities_dict(scores_matrix, dev_ds, verifier_names)\n",
    "param_counts = utils.costs_dict(verifier_names)"
   ]
  },
  {
   "cell_type": "code",
   "execution_count": 76,
   "id": "72c5c238",
   "metadata": {},
   "outputs": [
    {
     "data": {
      "image/png": "[encoded data removed]",
      "text/plain": [
       "<Figure size 1000x400 with 1 Axes>"
      ]
     },
     "metadata": {},
     "output_type": "display_data"
    }
   ],
   "source": [
    "plt.figure(figsize=(10,4))\n",
    "plt.hist([u for u in utilities if not np.isnan(u)], bins=25, color='lightblue', alpha=0.7, edgecolor='black')\n",
    "plt.xlabel(\"AUC-ROC\")\n",
    "plt.ylabel(\"Count\")\n",
    "plt.title(\"Distribution of MATH500 Verifier AUCs (Dev Set, K=50)\")\n",
    "plt.show()"
   ]
  },
  {
   "cell_type": "markdown",
   "id": "1ea10988",
   "metadata": {},
   "source": [
    "## RUN HERE"
   ]
  },
  {
   "cell_type": "code",
   "execution_count": 77,
   "id": "65c87828",
   "metadata": {},
   "outputs": [],
   "source": [
    "selected = utils.greedy_select(utilities,\n",
    "    similarities['pearson'],\n",
    "    verifier_names,\n",
    "    k=10, # number of verifiers to select\n",
    "    alpha=1.0, # utility weight\n",
    "    beta=1.0, # similarity weight\n",
    "    gamma=1.0, # parameter cost weight\n",
    "    param_counts=param_counts)"
   ]
  },
  {
   "cell_type": "code",
   "execution_count": 78,
   "id": "9a47ba8b",
   "metadata": {},
   "outputs": [
    {
     "data": {
      "text/plain": [
       "{'order': [17, 12, 30, 25, 18, 24, 28, 27, 1, 22],\n",
       " 'step_scores': [0.824613713396491,\n",
       "  0.699156764149717,\n",
       "  0.4861301085703764,\n",
       "  0.4709915477486611,\n",
       "  0.38618555275018224,\n",
       "  0.3847574483142858,\n",
       "  0.2584194102963969,\n",
       "  0.24792736402403004,\n",
       "  0.2363279069592042,\n",
       "  0.1432552304328269],\n",
       " 'verifiers': ['QwenPRM_min_scores',\n",
       "  'GPM_scores',\n",
       "  'LDLRewardGemma_scores',\n",
       "  'EurusPRMStage2_avg_scores',\n",
       "  'QwenPRM_max_scores',\n",
       "  'EurusPRMStage2_max_scores',\n",
       "  'Qwen72B_scores',\n",
       "  'InternLM2Reward7B_scores',\n",
       "  'DeepSeekQwen32B_verdicts',\n",
       "  'EurusPRMStage1_avg_scores'],\n",
       " 'param_counts': [7.0, 8.0, 27.0, 7.0, 7.0, 7.0, 72.0, 7.0, 32.0, 7.0]}"
      ]
     },
     "execution_count": 78,
     "metadata": {},
     "output_type": "execute_result"
    }
   ],
   "source": [
    "selected"
   ]
  },
  {
   "cell_type": "code",
   "execution_count": 79,
   "id": "cb440c31",
   "metadata": {},
   "outputs": [
    {
     "name": "stdout",
     "output_type": "stream",
     "text": [
      "['QwenPRM_min_scores', 'GPM_scores', 'LDLRewardGemma_scores', 'EurusPRMStage2_avg_scores', 'QwenPRM_max_scores', 'EurusPRMStage2_max_scores', 'Qwen72B_scores', 'InternLM2Reward7B_scores', 'DeepSeekQwen32B_verdicts', 'EurusPRMStage1_avg_scores']\n"
     ]
    }
   ],
   "source": [
    "print(selected['verifiers'])"
   ]
  },
  {
   "cell_type": "code",
   "execution_count": null,
   "id": "300fec75",
   "metadata": {},
   "outputs": [
    {
     "name": "stdout",
     "output_type": "stream",
     "text": [
      "['Skyworks (8B)', 'EurusPRMStage1 (7B)', 'ArmorRM (8B)', 'InternLM2Reward7B (7B)', 'EurusPRMStage2 (7B)', 'QwenPRM (7B)', 'GPM (8B)']\n"
     ]
    }
   ],
   "source": [
    "# verifier_names = selected['verifiers']\n",
    "# verifier_names = list(set([f\"{selected['verifiers'][i].split('_')[0]} ({int(selected['param_counts'][i])}B)\" for i in range(len(selected['verifiers']))]))\n",
    "# print(verifier_names)"
   ]
  },
  {
   "cell_type": "markdown",
   "id": "2bae933a",
   "metadata": {},
   "source": [
    "### Plotting Functions"
   ]
  },
  {
   "cell_type": "code",
   "execution_count": 58,
   "id": "100e6983",
   "metadata": {},
   "outputs": [
    {
     "data": {
      "image/png": "[encoded data removed]",
      "text/plain": [
       "<Figure size 1000x500 with 1 Axes>"
      ]
     },
     "metadata": {},
     "output_type": "display_data"
    }
   ],
   "source": [
    "plt.figure(figsize=(10,5))\n",
    "plt.plot(selected['step_scores'], color='blue')\n",
    "plt.xlabel(\"Verifier Selection Step\")\n",
    "plt.ylabel(\"Score\")\n",
    "plt.title(\"MATH500 Verifier Selection Step Scores (Dev Set)\")\n",
    "plt.grid(True, alpha=0.5)\n",
    "plt.show()"
   ]
  },
  {
   "cell_type": "markdown",
   "id": "1ada2370",
   "metadata": {},
   "source": [
    "## Hyperparameter Search / Training Loop"
   ]
  },
  {
   "cell_type": "code",
   "execution_count": 49,
   "id": "74bf9cb3",
   "metadata": {},
   "outputs": [
    {
     "name": "stdout",
     "output_type": "stream",
     "text": [
      "['QwenPRM_min', 'GPM', 'EurusPRMStage2_avg', 'EurusPRMStage1_avg', 'QwenPRM_max', 'EurusPRMStage2_max', 'InternLM2Reward7B', 'Skyworks', 'ArmorRM', 'EurusPRMStage1_min']\n"
     ]
    }
   ],
   "source": [
    "print(selected['verifiers'])"
   ]
  },
  {
   "cell_type": "code",
   "execution_count": null,
   "id": "6f3ef7ff",
   "metadata": {},
   "outputs": [],
   "source": []
  }
 ],
 "metadata": {
  "kernelspec": {
   "display_name": "weaver",
   "language": "python",
   "name": "python3"
  },
  "language_info": {
   "codemirror_mode": {
    "name": "ipython",
    "version": 3
   },
   "file_extension": ".py",
   "mimetype": "text/x-python",
   "name": "python",
   "nbconvert_exporter": "python",
   "pygments_lexer": "ipython3",
   "version": "3.11.14"
  }
 },
 "nbformat": 4,
 "nbformat_minor": 5
}
