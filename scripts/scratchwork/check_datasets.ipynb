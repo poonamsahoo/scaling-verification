{
 "cells": [
  {
   "cell_type": "code",
   "execution_count": 1,
   "id": "383efdd1",
   "metadata": {},
   "outputs": [
    {
     "name": "stderr",
     "output_type": "stream",
     "text": [
      "/opt/anaconda3/envs/weaver/lib/python3.11/site-packages/tqdm/auto.py:21: TqdmWarning: IProgress not found. Please update jupyter and ipywidgets. See https://ipywidgets.readthedocs.io/en/stable/user_install.html\n",
      "  from .autonotebook import tqdm as notebook_tqdm\n",
      "/opt/anaconda3/envs/weaver/lib/python3.11/site-packages/torch/cuda/__init__.py:63: FutureWarning: The pynvml package is deprecated. Please install nvidia-ml-py instead. If you did not install pynvml directly, please report this to the maintainers of the package that installed pynvml for you.\n",
      "  import pynvml  # type: ignore[import]\n"
     ]
    },
    {
     "name": "stdout",
     "output_type": "stream",
     "text": [
      "Qwen Dataset Info:\n",
      "Number of rows: 10\n",
      "Columns: ['problem', 'solution', 'answer', 'subject', 'level', 'unique_id', 'instruction', 'samples']\n",
      "\n",
      "Sample counts per row: [2, 2, 2, 2, 2]\n",
      "\n",
      "Llama Dataset Info:\n",
      "Number of rows: 10\n",
      "Columns: ['problem', 'solution', 'answer', 'subject', 'level', 'unique_id', 'instruction', 'samples']\n",
      "\n",
      "Sample counts per row: [2, 2, 2, 2, 2]\n",
      "\n",
      "Example from Qwen dataset:\n",
      "Problem: Problem: Convert the point $(0,3)$ in rectangular coordinates to polar coordinates.  Enter your answer in the form $(r,\\theta),$ where $r > 0$ and $0 \\le \\theta < 2 \\pi.$\n",
      "\n",
      "Please solve this step by st...\n",
      "Number of samples: 2\n",
      "First sample response: To convert a point from rectangular coordinates to polar coordinates, we use the following formulas:\n",
      "- \\( r = \\sqrt{x^2 + y^2} \\)\n",
      "- \\( \\theta = \\arctan\\left(\\frac{y}{x}\\right) \\)\n",
      "\n",
      "However, since \\(\\ar...\n",
      "\n",
      "Example from Llama dataset:\n",
      "Problem: Problem: Convert the point $(0,3)$ in rectangular coordinates to polar coordinates.  Enter your answer in the form $(r,\\theta),$ where $r > 0$ and $0 \\le \\theta < 2 \\pi.$\n",
      "\n",
      "Please solve this step by st...\n",
      "Number of samples: 2\n",
      "First sample response: To convert the point $(0,3)$ from rectangular coordinates to polar coordinates, we'll use the following formulas:\n",
      "\n",
      "- $r = \\sqrt{x^2 + y^2}$ (to find the radius)\n",
      "- $\\theta = \\arctan\\left(\\frac{y}{x}\\ri...\n",
      "\n",
      "Rows with missing samples:\n",
      "Qwen: 0\n",
      "Llama: 0\n"
     ]
    }
   ],
   "source": [
    "# want to load /Users/poonamsahoo/scaling-verification/datasets/MATH500_Qwen25CoderInstruct_samples.hf and /Users/poonamsahoo/scaling-verification/datasets/MATH500_with_Llama_3.1_8B_Instruct_samples.hf and verify the process of generating samples worked properly\n",
    "from datasets import load_from_disk\n",
    "import pandas as pd\n",
    "\n",
    "# Load both datasets\n",
    "qwen_path = \"/Users/poonamsahoo/scaling-verification/datasets/MATH500_Qwen25CoderInstruct_samples.hf\"\n",
    "llama_path = \"/Users/poonamsahoo/scaling-verification/datasets/MATH500_with_Llama_3.1_8B_Instruct_samples.hf\"\n",
    "\n",
    "qwen_ds = load_from_disk(qwen_path)\n",
    "llama_ds = load_from_disk(llama_path)\n",
    "\n",
    "print(\"Qwen Dataset Info:\")\n",
    "print(f\"Number of rows: {len(qwen_ds)}\")\n",
    "print(f\"Columns: {qwen_ds.column_names}\")\n",
    "print(f\"\\nSample counts per row: {[len(samples) for samples in qwen_ds['samples'][:5]]}\")\n",
    "\n",
    "print(\"\\nLlama Dataset Info:\") \n",
    "print(f\"Number of rows: {len(llama_ds)}\")\n",
    "print(f\"Columns: {llama_ds.column_names}\")\n",
    "print(f\"\\nSample counts per row: {[len(samples) for samples in llama_ds['samples'][:5]]}\")\n",
    "\n",
    "# Check a few examples\n",
    "print(\"\\nExample from Qwen dataset:\")\n",
    "example_idx = 0\n",
    "print(f\"Problem: {qwen_ds[example_idx]['problem'][:200]}...\")\n",
    "print(f\"Number of samples: {len(qwen_ds[example_idx]['samples'])}\")\n",
    "print(f\"First sample response: {qwen_ds[example_idx]['samples'][0][:200]}...\")\n",
    "\n",
    "print(\"\\nExample from Llama dataset:\")\n",
    "print(f\"Problem: {llama_ds[example_idx]['problem'][:200]}...\")\n",
    "print(f\"Number of samples: {len(llama_ds[example_idx]['samples'])}\")\n",
    "print(f\"First sample response: {llama_ds[example_idx]['samples'][0][:200]}...\")\n",
    "\n",
    "# Check for any rows with missing samples\n",
    "qwen_missing = sum(1 for row in qwen_ds if len(row['samples']) == 0)\n",
    "llama_missing = sum(1 for row in llama_ds if len(row['samples']) == 0)\n",
    "\n",
    "print(f\"\\nRows with missing samples:\")\n",
    "print(f\"Qwen: {qwen_missing}\")\n",
    "print(f\"Llama: {llama_missing}\")\n"
   ]
  },
  {
   "cell_type": "code",
   "execution_count": 2,
   "id": "4df4db6f",
   "metadata": {},
   "outputs": [
    {
     "name": "stderr",
     "output_type": "stream",
     "text": [
      "/opt/anaconda3/envs/weaver/lib/python3.11/site-packages/tqdm/auto.py:21: TqdmWarning: IProgress not found. Please update jupyter and ipywidgets. See https://ipywidgets.readthedocs.io/en/stable/user_install.html\n",
      "  from .autonotebook import tqdm as notebook_tqdm\n",
      "/opt/anaconda3/envs/weaver/lib/python3.11/site-packages/torch/cuda/__init__.py:63: FutureWarning: The pynvml package is deprecated. Please install nvidia-ml-py instead. If you did not install pynvml directly, please report this to the maintainers of the package that installed pynvml for you.\n",
      "  import pynvml  # type: ignore[import]\n",
      "Generating test split: 100%|██████████| 30/30 [00:00<00:00, 924.64 examples/s]\n"
     ]
    }
   ],
   "source": [
    "from datasets import load_dataset\n",
    "dataset = load_dataset(\"math-ai/aime24\")\n",
    "# Get the first available split (either 'train' or 'test')\n",
    "split_name = 'train' if 'train' in dataset else 'test'\n",
    "dataset = dataset[split_name]"
   ]
  },
  {
   "cell_type": "code",
   "execution_count": 6,
   "id": "24b71428",
   "metadata": {},
   "outputs": [
    {
     "name": "stderr",
     "output_type": "stream",
     "text": [
      "Generating train split: 100%|██████████| 7473/7473 [00:00<00:00, 293321.42 examples/s]\n",
      "Generating test split: 100%|██████████| 1319/1319 [00:00<00:00, 495103.54 examples/s]\n"
     ]
    }
   ],
   "source": [
    "dataset = load_dataset(\"openai/gsm8k\", \"main\")\n",
    "# Get the first available split (either 'train' or 'test')\n",
    "split_name = 'train' if 'train' in dataset else 'test'\n",
    "dataset = dataset[split_name]"
   ]
  },
  {
   "cell_type": "code",
   "execution_count": 7,
   "id": "690962f1",
   "metadata": {},
   "outputs": [
    {
     "data": {
      "text/plain": [
       "Dataset({\n",
       "    features: ['question', 'answer'],\n",
       "    num_rows: 7473\n",
       "})"
      ]
     },
     "execution_count": 7,
     "metadata": {},
     "output_type": "execute_result"
    }
   ],
   "source": [
    "dataset"
   ]
  }
 ],
 "metadata": {
  "kernelspec": {
   "display_name": "weaver",
   "language": "python",
   "name": "python3"
  },
  "language_info": {
   "codemirror_mode": {
    "name": "ipython",
    "version": 3
   },
   "file_extension": ".py",
   "mimetype": "text/x-python",
   "name": "python",
   "nbconvert_exporter": "python",
   "pygments_lexer": "ipython3",
   "version": "3.11.13"
  }
 },
 "nbformat": 4,
 "nbformat_minor": 5
}
