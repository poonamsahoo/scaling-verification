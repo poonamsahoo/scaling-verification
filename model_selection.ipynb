{
 "cells": [
  {
   "cell_type": "code",
   "execution_count": 1,
   "id": "cc236f25",
   "metadata": {},
   "outputs": [
    {
     "name": "stderr",
     "output_type": "stream",
     "text": [
      "/Users/amyguan/miniforge3/envs/weaver/lib/python3.11/site-packages/torch/cuda/__init__.py:63: FutureWarning: The pynvml package is deprecated. Please install nvidia-ml-py instead. If you did not install pynvml directly, please report this to the maintainers of the package that installed pynvml for you.\n",
      "  import pynvml  # type: ignore[import]\n"
     ]
    }
   ],
   "source": [
    "import pandas as pd\n",
    "import numpy as np\n",
    "import matplotlib.pyplot as plt\n",
    "import seaborn as sns\n",
    "\n",
    "import datasets"
   ]
  },
  {
   "cell_type": "code",
   "execution_count": 17,
   "id": "ed252b2d",
   "metadata": {},
   "outputs": [],
   "source": [
    "MODEL_PARAMS = {\n",
    "    \"GRM\": 8_000_000_000,\n",
    "    \"ArmorRM\": 8_000_000_000,\n",
    "    \"URM\": 8_000_000_000,\n",
    "    \"QRM\": 8_000_000_000,\n",
    "    \"GPM\": 8_000_000_000,\n",
    "    \"GRMLlama32\": 3_000_000_000,\n",
    "    \"OffsetBias\": 8_000_000_000,\n",
    "    \"GRMGemma\": 2_000_000_000,\n",
    "    \"Skyworks\": 8_000_000_000,\n",
    "    \"SkyworksGemma\": 27_000_000_000,\n",
    "    \"QRMGemma\": 27_000_000_000,\n",
    "    \"LDLRewardGemma\": 27_000_000_000,\n",
    "    \"QwenPRM\": 7_000_000_000,\n",
    "    \"Qwen72B\": 72_000_000_000,\n",
    "    \"Qwen72BPRM\": 72_000_000_000,\n",
    "    \"EurusPRMStage1\": 7_000_000_000,\n",
    "    \"EurusPRMStage2\": 7_000_000_000,\n",
    "    \"InternLM2RewardModel\": 20_000_000_000,\n",
    "    \"InternLM2Reward7B\": 7_000_000_000,\n",
    "    \"DecisionTreeReward8B\": 8_000_000_000,\n",
    "    \"DecisionTreeReward27B\": 27_000_000_000,\n",
    "    \"INFORM\": 70_000_000_000,\n",
    "    \"DeepSeekLlama70B\": 70_000_000_000,\n",
    "    \"DeepSeekQwen32B\": 32_000_000_000,\n",
    "    \"SkyT1\": 32_000_000_000,\n",
    "    \"Llama-3.3-70B-Instruct\": 70_000_000_000,\n",
    "    \"Meta-Llama-3.1-405B-Instruct-quantized.w8a16\": 405_000_000_000,\n",
    "    \"Qwen/Qwen2.5-72B-Instruct\": 72_000_000_000,\n",
    "    \"QwQ-32B\": 32_000_000_000,\n",
    "    \"WizardLM-2-8x22B\": 176_000_000_000,\n",
    "    \"Mixtral-8x22B-Instruct-v0.1\": 176_000_000_000,\n",
    "    \"DeepSeekLlama8B\": 8_000_000_000,\n",
    "    \"DeepSeekQwen7B\": 7_000_000_000,\n",
    "    \"Llama-3.1-8B-Instruct\": 8_000_000_000,\n",
    "    \"Gemma-3-12B-Instruct\": 12_000_000_000,\n",
    "    \"Gemma-3-4B-Instruct\": 4_000_000_000,\n",
    "    \"Phi-4-4B-Instruct\": 4_000_000_000,\n",
    "    \"Qwen-2.5-7B-Instruct\": 7_000_000_000,\n",
    "    \"Qwen-2.5-Math-7B-Instruct\": 7_000_000_000,\n",
    "    \"Mistral-7B-Instruct-v0.2\": 7_000_000_000,\n",
    "}"
   ]
  },
  {
   "cell_type": "code",
   "execution_count": null,
   "id": "112255eb",
   "metadata": {},
   "outputs": [],
   "source": []
  },
  {
   "cell_type": "code",
   "execution_count": null,
   "id": "511a2a85",
   "metadata": {},
   "outputs": [],
   "source": []
  },
  {
   "cell_type": "code",
   "execution_count": 2,
   "id": "5b372b7e",
   "metadata": {},
   "outputs": [
    {
     "name": "stdout",
     "output_type": "stream",
     "text": [
      "Dataset loaded successfully!\n",
      "Number of problems: 500\n",
      "Dataset features: {'problem': Value('string'), 'solution': Value('string'), 'answer': Value('string'), 'subject': Value('string'), 'level': Value('int64'), 'unique_id': Value('string'), 'instruction': Value('string'), 'samples': List(Value('string')), 'extracted_answers': List(Value('string')), 'answer_correct': List(Value('bool')), 'DeepSeekLlama70B_verdicts': List(Value('float64')), 'DeepSeekQwen32B_verdicts': List(Value('float64')), 'Llama-3.3-70B-Instruct_verdicts': List(Value('float64')), 'Qwen/Qwen2.5-72B-Instruct_verdicts': List(Value('float64')), 'Mixtral-8x22B-Instruct-v0.1_verdicts': List(Value('float64')), 'Meta-Llama-3.1-405B-Instruct-quantized.w8a16_verdicts': List(Value('float64')), 'WizardLM-2-8x22B_verdicts': List(Value('float64')), 'SkyT1_verdicts': List(Value('float64')), 'GRM_scores': List(Value('float64')), 'Skyworks_scores': List(Value('float64')), 'URM_scores': List(Value('float64')), 'QRM_scores': List(Value('float64')), 'GPM_scores': List(Value('float64')), 'GRMLlama32_scores': List(Value('float64')), 'OffsetBias_scores': List(Value('float64')), 'GRMGemma_scores': List(Value('float64')), 'ArmorRM_scores': List(Value('float64')), 'QwenPRM_min_scores': List(Value('float64')), 'QwenPRM_max_scores': List(Value('float64')), 'QwenPRM_avg_scores': List(Value('float64')), 'EurusPRMStage1_min_scores': List(Value('float64')), 'EurusPRMStage1_max_scores': List(Value('float64')), 'EurusPRMStage1_avg_scores': List(Value('float64')), 'EurusPRMStage2_min_scores': List(Value('float64')), 'EurusPRMStage2_max_scores': List(Value('float64')), 'EurusPRMStage2_avg_scores': List(Value('float64')), 'QRMGemma_scores': List(Value('float64')), 'InternLM2Reward7B_scores': List(Value('float64')), 'Qwen72B_scores': List(Value('float64')), 'SkyworksGemma_scores': List(Value('float64')), 'LDLRewardGemma_scores': List(Value('float64')), 'InternLM2RewardModel_scores': List(Value('float64')), 'INFORM_scores': List(Value('float64')), 'DecisionTreeReward8B_scores': List(Value('float64')), 'DecisionTreeReward27B_scores': List(Value('float64')), 'weaver_scores': List(Value('float64'))}\n",
      "\n",
      "First problem keys: ['problem', 'solution', 'answer', 'subject', 'level', 'unique_id', 'instruction', 'samples', 'extracted_answers', 'answer_correct', 'DeepSeekLlama70B_verdicts', 'DeepSeekQwen32B_verdicts', 'Llama-3.3-70B-Instruct_verdicts', 'Qwen/Qwen2.5-72B-Instruct_verdicts', 'Mixtral-8x22B-Instruct-v0.1_verdicts', 'Meta-Llama-3.1-405B-Instruct-quantized.w8a16_verdicts', 'WizardLM-2-8x22B_verdicts', 'SkyT1_verdicts', 'GRM_scores', 'Skyworks_scores', 'URM_scores', 'QRM_scores', 'GPM_scores', 'GRMLlama32_scores', 'OffsetBias_scores', 'GRMGemma_scores', 'ArmorRM_scores', 'QwenPRM_min_scores', 'QwenPRM_max_scores', 'QwenPRM_avg_scores', 'EurusPRMStage1_min_scores', 'EurusPRMStage1_max_scores', 'EurusPRMStage1_avg_scores', 'EurusPRMStage2_min_scores', 'EurusPRMStage2_max_scores', 'EurusPRMStage2_avg_scores', 'QRMGemma_scores', 'InternLM2Reward7B_scores', 'Qwen72B_scores', 'SkyworksGemma_scores', 'LDLRewardGemma_scores', 'InternLM2RewardModel_scores', 'INFORM_scores', 'DecisionTreeReward8B_scores', 'DecisionTreeReward27B_scores', 'weaver_scores']\n"
     ]
    }
   ],
   "source": [
    "# Load the MATH500 dataset from Hugging Face\n",
    "dataset = datasets.load_dataset(\"hazyresearch/MATH500_with_Llama_3.1_70B_Instruct_v1\")[\"data\"]\n",
    "\n",
    "print(f\"Dataset loaded successfully!\")\n",
    "print(f\"Number of problems: {len(dataset)}\")\n",
    "print(f\"Dataset features: {dataset.features}\")\n",
    "print(f\"\\nFirst problem keys: {list(dataset[0].keys())}\")"
   ]
  },
  {
   "cell_type": "code",
   "execution_count": 3,
   "id": "4b831606",
   "metadata": {},
   "outputs": [
    {
     "data": {
      "text/plain": [
       "Dataset({\n",
       "    features: ['problem', 'solution', 'answer', 'subject', 'level', 'unique_id', 'instruction', 'samples', 'extracted_answers', 'answer_correct', 'DeepSeekLlama70B_verdicts', 'DeepSeekQwen32B_verdicts', 'Llama-3.3-70B-Instruct_verdicts', 'Qwen/Qwen2.5-72B-Instruct_verdicts', 'Mixtral-8x22B-Instruct-v0.1_verdicts', 'Meta-Llama-3.1-405B-Instruct-quantized.w8a16_verdicts', 'WizardLM-2-8x22B_verdicts', 'SkyT1_verdicts', 'GRM_scores', 'Skyworks_scores', 'URM_scores', 'QRM_scores', 'GPM_scores', 'GRMLlama32_scores', 'OffsetBias_scores', 'GRMGemma_scores', 'ArmorRM_scores', 'QwenPRM_min_scores', 'QwenPRM_max_scores', 'QwenPRM_avg_scores', 'EurusPRMStage1_min_scores', 'EurusPRMStage1_max_scores', 'EurusPRMStage1_avg_scores', 'EurusPRMStage2_min_scores', 'EurusPRMStage2_max_scores', 'EurusPRMStage2_avg_scores', 'QRMGemma_scores', 'InternLM2Reward7B_scores', 'Qwen72B_scores', 'SkyworksGemma_scores', 'LDLRewardGemma_scores', 'InternLM2RewardModel_scores', 'INFORM_scores', 'DecisionTreeReward8B_scores', 'DecisionTreeReward27B_scores', 'weaver_scores'],\n",
       "    num_rows: 100\n",
       "})"
      ]
     },
     "execution_count": 3,
     "metadata": {},
     "output_type": "execute_result"
    }
   ],
   "source": [
    "splits = dataset.train_test_split(test_size=0.8, seed=422)\n",
    "dev_ds, test_ds = splits[\"train\"], splits[\"test\"]\n",
    "dev_ds"
   ]
  },
  {
   "cell_type": "code",
   "execution_count": 4,
   "id": "0fdb8d23",
   "metadata": {},
   "outputs": [
    {
     "name": "stdout",
     "output_type": "stream",
     "text": [
      "Number of verifiers: 27\n"
     ]
    },
    {
     "data": {
      "text/plain": [
       "(10000, 27)"
      ]
     },
     "execution_count": 4,
     "metadata": {},
     "output_type": "execute_result"
    }
   ],
   "source": [
    "# Extract all verifier score columns\n",
    "verifier_columns = [col for col in dev_ds[0].keys() if col.endswith('_scores') and 'weaver' not in col]\n",
    "print(f\"Number of verifiers: {len(verifier_columns)}\")\n",
    "\n",
    "# Create a matrix to store all verifier scores across all problems\n",
    "# Shape: (num_problems * K, num_verifiers)\n",
    "all_scores = []\n",
    "verifier_names = []\n",
    "\n",
    "for col in verifier_columns:\n",
    "    scores_for_verifier = []\n",
    "    for problem in dev_ds:\n",
    "        scores_for_verifier.extend(problem[col])\n",
    "    all_scores.append(scores_for_verifier)\n",
    "    verifier_names.append(col.replace('_scores', ''))\n",
    "\n",
    "scores_matrix = np.array(all_scores).T  # Shape: (500*100, num_verifiers)\n",
    "scores_matrix.shape"
   ]
  },
  {
   "cell_type": "code",
   "execution_count": 5,
   "id": "88577201",
   "metadata": {},
   "outputs": [
    {
     "name": "stdout",
     "output_type": "stream",
     "text": [
      "Ground truth shape: (10000,)\n",
      "Overall accuracy: 0.799\n",
      "Individual verifier utilities (AUC-ROC) calculated\n"
     ]
    }
   ],
   "source": [
    "## Model Selection: Balancing Diversity vs Utility\n",
    "\n",
    "# First, let's create ground truth labels for utility assessment\n",
    "# We'll use the answer_correct labels as our target\n",
    "ground_truth = []\n",
    "for problem in dev_ds:\n",
    "    ground_truth.extend(problem['answer_correct'])\n",
    "\n",
    "ground_truth = np.array(ground_truth)\n",
    "print(f\"Ground truth shape: {ground_truth.shape}\")\n",
    "print(f\"Overall accuracy: {np.mean(ground_truth):.3f}\")\n",
    "\n",
    "# Calculate individual verifier utility (AUC-ROC)\n",
    "from sklearn.metrics import roc_auc_score\n",
    "\n",
    "individual_utilities = []\n",
    "for i in range(len(verifier_names)):\n",
    "    try:\n",
    "        auc = roc_auc_score(ground_truth, scores_matrix[:, i])\n",
    "        individual_utilities.append(auc)\n",
    "    except:\n",
    "        individual_utilities.append(0.5)  # Default for perfect correlation\n",
    "\n",
    "print(f\"Individual verifier utilities (AUC-ROC) calculated\")\n"
   ]
  },
  {
   "cell_type": "code",
   "execution_count": 6,
   "id": "35e556a7",
   "metadata": {},
   "outputs": [
    {
     "data": {
      "text/plain": [
       "[0.6823340397170078,\n",
       " 0.7509938349704286,\n",
       " 0.6723261172028603,\n",
       " 0.7352842134963649,\n",
       " 0.7063932707608005,\n",
       " 0.616031899678563,\n",
       " 0.7144182591455998,\n",
       " 0.6254701227622044,\n",
       " 0.7250709374713359,\n",
       " 0.8408269449728614,\n",
       " 0.7448557559053077,\n",
       " 0.8360181957355762,\n",
       " 0.6642407160646703,\n",
       " 0.46032894822112946,\n",
       " 0.5000848084139916,\n",
       " 0.7796632227346869,\n",
       " 0.7344977572193708,\n",
       " 0.7827555518666076,\n",
       " 0.7072715456990856,\n",
       " 0.7864876205887162,\n",
       " 0.8859280719962992,\n",
       " 0.6257415906942799,\n",
       " 0.5861092354805004,\n",
       " 0.6995799335191766,\n",
       " 0.6790730596133983,\n",
       " 0.7334252516959191,\n",
       " 0.683390624189927]"
      ]
     },
     "execution_count": 6,
     "metadata": {},
     "output_type": "execute_result"
    }
   ],
   "source": [
    "individual_utilities"
   ]
  },
  {
   "cell_type": "code",
   "execution_count": 7,
   "id": "cdfcafce",
   "metadata": {},
   "outputs": [
    {
     "data": {
      "image/png": "[encoded data removed]",
      "text/plain": [
       "<Figure size 1000x400 with 1 Axes>"
      ]
     },
     "metadata": {},
     "output_type": "display_data"
    }
   ],
   "source": [
    "# Visualize individual verifier AUCs\n",
    "import matplotlib.pyplot as plt\n",
    "plt.figure(figsize=(10,4))\n",
    "plt.hist([u for u in individual_utilities if not np.isnan(u)], bins=10, color=\"#4C78A8\")\n",
    "plt.xlabel(\"AUC-ROC\")\n",
    "plt.ylabel(\"Count\")\n",
    "plt.title(\"Distribution of verifier AUCs\")\n",
    "plt.show()"
   ]
  },
  {
   "cell_type": "code",
   "execution_count": 8,
   "id": "3768d468",
   "metadata": {},
   "outputs": [
    {
     "data": {
      "text/html": [
       "<div>\n",
       "<style scoped>\n",
       "    .dataframe tbody tr th:only-of-type {\n",
       "        vertical-align: middle;\n",
       "    }\n",
       "\n",
       "    .dataframe tbody tr th {\n",
       "        vertical-align: top;\n",
       "    }\n",
       "\n",
       "    .dataframe thead th {\n",
       "        text-align: right;\n",
       "    }\n",
       "</style>\n",
       "<table border=\"1\" class=\"dataframe\">\n",
       "  <thead>\n",
       "    <tr style=\"text-align: right;\">\n",
       "      <th></th>\n",
       "      <th>verifier</th>\n",
       "      <th>auc</th>\n",
       "      <th>best_acc</th>\n",
       "      <th>best_threshold</th>\n",
       "      <th>mean_score</th>\n",
       "      <th>std_score</th>\n",
       "    </tr>\n",
       "  </thead>\n",
       "  <tbody>\n",
       "    <tr>\n",
       "      <th>0</th>\n",
       "      <td>Qwen72B</td>\n",
       "      <td>0.885928</td>\n",
       "      <td>0.8720</td>\n",
       "      <td>0.283133</td>\n",
       "      <td>0.682676</td>\n",
       "      <td>0.299325</td>\n",
       "    </tr>\n",
       "    <tr>\n",
       "      <th>1</th>\n",
       "      <td>QwenPRM_min</td>\n",
       "      <td>0.840827</td>\n",
       "      <td>0.8310</td>\n",
       "      <td>0.039533</td>\n",
       "      <td>0.668454</td>\n",
       "      <td>0.372493</td>\n",
       "    </tr>\n",
       "    <tr>\n",
       "      <th>2</th>\n",
       "      <td>QwenPRM_avg</td>\n",
       "      <td>0.836018</td>\n",
       "      <td>0.8292</td>\n",
       "      <td>0.153656</td>\n",
       "      <td>0.751528</td>\n",
       "      <td>0.307537</td>\n",
       "    </tr>\n",
       "    <tr>\n",
       "      <th>3</th>\n",
       "      <td>InternLM2Reward7B</td>\n",
       "      <td>0.786488</td>\n",
       "      <td>0.8074</td>\n",
       "      <td>0.015911</td>\n",
       "      <td>0.404480</td>\n",
       "      <td>0.323197</td>\n",
       "    </tr>\n",
       "    <tr>\n",
       "      <th>4</th>\n",
       "      <td>EurusPRMStage2_avg</td>\n",
       "      <td>0.782756</td>\n",
       "      <td>0.7992</td>\n",
       "      <td>0.000000</td>\n",
       "      <td>0.840840</td>\n",
       "      <td>0.276775</td>\n",
       "    </tr>\n",
       "    <tr>\n",
       "      <th>5</th>\n",
       "      <td>EurusPRMStage2_min</td>\n",
       "      <td>0.779663</td>\n",
       "      <td>0.7992</td>\n",
       "      <td>0.000000</td>\n",
       "      <td>0.830045</td>\n",
       "      <td>0.289688</td>\n",
       "    </tr>\n",
       "    <tr>\n",
       "      <th>6</th>\n",
       "      <td>Skyworks</td>\n",
       "      <td>0.750994</td>\n",
       "      <td>0.8108</td>\n",
       "      <td>0.004622</td>\n",
       "      <td>0.544781</td>\n",
       "      <td>0.322676</td>\n",
       "    </tr>\n",
       "    <tr>\n",
       "      <th>7</th>\n",
       "      <td>QwenPRM_max</td>\n",
       "      <td>0.744856</td>\n",
       "      <td>0.8140</td>\n",
       "      <td>0.008241</td>\n",
       "      <td>0.909973</td>\n",
       "      <td>0.263148</td>\n",
       "    </tr>\n",
       "    <tr>\n",
       "      <th>8</th>\n",
       "      <td>QRM</td>\n",
       "      <td>0.735284</td>\n",
       "      <td>0.7992</td>\n",
       "      <td>0.000000</td>\n",
       "      <td>0.705767</td>\n",
       "      <td>0.332258</td>\n",
       "    </tr>\n",
       "    <tr>\n",
       "      <th>9</th>\n",
       "      <td>EurusPRMStage2_max</td>\n",
       "      <td>0.734498</td>\n",
       "      <td>0.8082</td>\n",
       "      <td>0.011247</td>\n",
       "      <td>0.395697</td>\n",
       "      <td>0.282108</td>\n",
       "    </tr>\n",
       "  </tbody>\n",
       "</table>\n",
       "</div>"
      ],
      "text/plain": [
       "             verifier       auc  best_acc  best_threshold  mean_score  \\\n",
       "0             Qwen72B  0.885928    0.8720        0.283133    0.682676   \n",
       "1         QwenPRM_min  0.840827    0.8310        0.039533    0.668454   \n",
       "2         QwenPRM_avg  0.836018    0.8292        0.153656    0.751528   \n",
       "3   InternLM2Reward7B  0.786488    0.8074        0.015911    0.404480   \n",
       "4  EurusPRMStage2_avg  0.782756    0.7992        0.000000    0.840840   \n",
       "5  EurusPRMStage2_min  0.779663    0.7992        0.000000    0.830045   \n",
       "6            Skyworks  0.750994    0.8108        0.004622    0.544781   \n",
       "7         QwenPRM_max  0.744856    0.8140        0.008241    0.909973   \n",
       "8                 QRM  0.735284    0.7992        0.000000    0.705767   \n",
       "9  EurusPRMStage2_max  0.734498    0.8082        0.011247    0.395697   \n",
       "\n",
       "   std_score  \n",
       "0   0.299325  \n",
       "1   0.372493  \n",
       "2   0.307537  \n",
       "3   0.323197  \n",
       "4   0.276775  \n",
       "5   0.289688  \n",
       "6   0.322676  \n",
       "7   0.263148  \n",
       "8   0.332258  \n",
       "9   0.282108  "
      ]
     },
     "execution_count": 8,
     "metadata": {},
     "output_type": "execute_result"
    }
   ],
   "source": [
    "# Reliability metrics per verifier: AUC and best-threshold accuracy\n",
    "from sklearn.metrics import roc_auc_score, accuracy_score\n",
    "\n",
    "num_verifiers = len(verifier_names)\n",
    "auc_per_verifier = np.zeros(num_verifiers)\n",
    "acc_per_verifier = np.zeros(num_verifiers)\n",
    "best_thresholds = np.zeros(num_verifiers)\n",
    "mean_scores = np.zeros(num_verifiers)\n",
    "std_scores = np.zeros(num_verifiers)\n",
    "\n",
    "for i in range(num_verifiers):\n",
    "    scores = scores_matrix[:, i]\n",
    "    mean_scores[i] = float(np.mean(scores))\n",
    "    std_scores[i] = float(np.std(scores))\n",
    "    # AUC (robust if scores are continuous)\n",
    "    try:\n",
    "        auc_per_verifier[i] = roc_auc_score(ground_truth, scores)\n",
    "    except Exception:\n",
    "        auc_per_verifier[i] = np.nan\n",
    "    # Best threshold accuracy (optimize on this dev split)\n",
    "    # Use percentiles to avoid O(N) thresholds\n",
    "    percentiles = np.linspace(1, 99, 99)\n",
    "    candidate_thresholds = np.percentile(scores, percentiles)\n",
    "    best_acc = -1.0\n",
    "    best_t = 0.0\n",
    "    for t in candidate_thresholds:\n",
    "        preds = (scores >= t)\n",
    "        acc = accuracy_score(ground_truth, preds)\n",
    "        if acc > best_acc:\n",
    "            best_acc = acc\n",
    "            best_t = float(t)\n",
    "    acc_per_verifier[i] = best_acc\n",
    "    best_thresholds[i] = best_t\n",
    "\n",
    "verifier_metrics = pd.DataFrame({\n",
    "    \"verifier\": verifier_names,\n",
    "    \"auc\": auc_per_verifier,\n",
    "    \"best_acc\": acc_per_verifier,\n",
    "    \"best_threshold\": best_thresholds,\n",
    "    \"mean_score\": mean_scores,\n",
    "    \"std_score\": std_scores,\n",
    "}).sort_values(by=[\"auc\", \"best_acc\"], ascending=False).reset_index(drop=True)\n",
    "\n",
    "verifier_metrics.head(10)"
   ]
  },
  {
   "cell_type": "code",
   "execution_count": 9,
   "id": "76da7733",
   "metadata": {},
   "outputs": [
    {
     "data": {
      "text/plain": [
       "{'pearson': (27, 27), 'cosine': (27, 27), 'co_agreement': (27, 27)}"
      ]
     },
     "execution_count": 9,
     "metadata": {},
     "output_type": "execute_result"
    }
   ],
   "source": [
    "# Pairwise similarity between verifiers: Pearson, Cosine, Co-agreement\n",
    "from numpy.linalg import norm\n",
    "\n",
    "# Pearson correlation on raw scores\n",
    "with np.errstate(invalid='ignore'):\n",
    "    pearson_sim = np.corrcoef(scores_matrix, rowvar=False)\n",
    "\n",
    "# Cosine similarity on raw scores (column-wise normalization)\n",
    "X = scores_matrix.astype(float)\n",
    "col_norms = np.maximum(norm(X, axis=0, keepdims=True), 1e-12)\n",
    "Xn = X / col_norms\n",
    "cosine_sim = Xn.T @ Xn\n",
    "\n",
    "# Co-agreement on binarized predictions at each verifier's best threshold\n",
    "bin_preds = np.zeros_like(scores_matrix, dtype=bool)\n",
    "for i in range(num_verifiers):\n",
    "    bin_preds[:, i] = scores_matrix[:, i] >= best_thresholds[i]\n",
    "co_agree = (bin_preds[:, :, None] == bin_preds[:, None, :]).mean(axis=0)\n",
    "\n",
    "similarities = {\n",
    "    \"pearson\": pearson_sim,\n",
    "    \"cosine\": cosine_sim,\n",
    "    \"co_agreement\": co_agree,\n",
    "}\n",
    "\n",
    "# Quick sanity check\n",
    "{key: mat.shape for key, mat in similarities.items()}"
   ]
  },
  {
   "cell_type": "code",
   "execution_count": null,
   "id": "c227c76e",
   "metadata": {},
   "outputs": [],
   "source": [
    "\n"
   ]
  },
  {
   "cell_type": "code",
   "execution_count": null,
   "id": "006f5295",
   "metadata": {},
   "outputs": [],
   "source": [
    "\n"
   ]
  },
  {
   "cell_type": "code",
   "execution_count": 19,
   "id": "ba08ba98",
   "metadata": {},
   "outputs": [
    {
     "data": {
      "text/plain": [
       "{'order': [20, 4, 19, 10, 16, 11, 17, 22, 1, 8],\n",
       " 'step_scores': [0.8859280719962992,\n",
       "  0.7012700934683507,\n",
       "  0.6680942507050157,\n",
       "  0.6402218945256624,\n",
       "  0.6066586574343023,\n",
       "  0.6060297758730492,\n",
       "  0.5618466198183298,\n",
       "  0.5244989299750225,\n",
       "  0.4433585613683306,\n",
       "  0.4276001528480716],\n",
       " 'verifiers': ['Qwen72B',\n",
       "  'GPM',\n",
       "  'InternLM2Reward7B',\n",
       "  'QwenPRM_max',\n",
       "  'EurusPRMStage2_max',\n",
       "  'QwenPRM_avg',\n",
       "  'EurusPRMStage2_avg',\n",
       "  'LDLRewardGemma',\n",
       "  'Skyworks',\n",
       "  'ArmorRM']}"
      ]
     },
     "execution_count": 19,
     "metadata": {},
     "output_type": "execute_result"
    }
   ],
   "source": [
    "# Greedy selection: prefer high utility and low similarity to selected set\n",
    "from typing import List, Tuple\n",
    "\n",
    "def greedy_select(\n",
    "    utilities: np.ndarray,\n",
    "    similarity_matrix: np.ndarray,\n",
    "    k: int | None = None,\n",
    "    alpha: float = 1.0,\n",
    "    beta: float = 1.0,\n",
    "    agg: str = \"max\",  # how to aggregate similarity to the set: \"max\" or \"mean\"\n",
    "    start_index: int | None = None,\n",
    ") -> dict:\n",
    "    n = len(utilities)\n",
    "    k = n if k is None else min(k, n)\n",
    "    selected: List[int] = []\n",
    "    remaining: set[int] = set(range(n))\n",
    "\n",
    "    # start with best utility if not provided\n",
    "    if start_index is None:\n",
    "        start_index = int(np.nanargmax(utilities))\n",
    "    selected.append(start_index)\n",
    "    remaining.remove(start_index)\n",
    "\n",
    "    step_scores: List[float] = [float(alpha * utilities[start_index])]\n",
    "\n",
    "    while len(selected) < k and remaining:\n",
    "        best_idx = None\n",
    "        best_score = -1e18\n",
    "        for j in list(remaining):\n",
    "            if agg == \"max\":\n",
    "                sim_to_set = np.nanmax(similarity_matrix[j, selected])\n",
    "            else:\n",
    "                sim_to_set = float(np.nanmean(similarity_matrix[j, selected]))\n",
    "            score = alpha * float(utilities[j]) - beta * float(sim_to_set)\n",
    "            if score > best_score:\n",
    "                best_score = score\n",
    "                best_idx = j\n",
    "        selected.append(best_idx)\n",
    "        remaining.remove(best_idx)\n",
    "        step_scores.append(float(best_score))\n",
    "\n",
    "    return {\n",
    "        \"order\": selected,\n",
    "        \"step_scores\": step_scores,\n",
    "        \"verifiers\": [verifier_names[i] for i in selected],\n",
    "    }\n",
    "\n",
    "# Choose utility = AUC (fallback to accuracy if AUC NaN)\n",
    "utility_vec = np.where(np.isnan(auc_per_verifier), acc_per_verifier, auc_per_verifier)\n",
    "\n",
    "# Example runs\n",
    "result_pearson = greedy_select(utility_vec, similarities[\"pearson\"], k=min(10, num_verifiers), alpha=1.0, beta=0.5, agg=\"max\")\n",
    "result_coagree = greedy_select(utility_vec, similarities[\"co_agreement\"], k=min(10, num_verifiers), alpha=1.0, beta=0.5, agg=\"max\")\n",
    "\n",
    "result_pearson #, result_coagree\n"
   ]
  },
  {
   "cell_type": "code",
   "execution_count": 20,
   "id": "ca1c614e",
   "metadata": {},
   "outputs": [
    {
     "data": {
      "image/png": "[encoded data removed]",
      "text/plain": [
       "<Figure size 1400x500 with 3 Axes>"
      ]
     },
     "metadata": {},
     "output_type": "display_data"
    }
   ],
   "source": [
    "# Visualizations: utilities and similarity heatmap\n",
    "fig, axes = plt.subplots(1, 2, figsize=(14, 5))\n",
    "\n",
    "# Bar plot of top-15 by AUC\n",
    "topk = verifier_metrics.head(15)\n",
    "axes[0].barh(topk[\"verifier\"], topk[\"auc\"], color=\"#4C78A8\")\n",
    "axes[0].invert_yaxis()\n",
    "axes[0].set_title(\"Top verifiers by AUC\")\n",
    "axes[0].set_xlabel(\"AUC-ROC\")\n",
    "\n",
    "# Heatmap of Pearson similarity for top-15 by AUC\n",
    "idxs = [verifier_names.index(v) for v in topk[\"verifier\"].tolist()]\n",
    "subsim = similarities[\"pearson\"][np.ix_(idxs, idxs)]\n",
    "im = axes[1].imshow(subsim, cmap=\"coolwarm\", vmin=-1, vmax=1)\n",
    "axes[1].set_title(\"Pearson similarity (top-15)\")\n",
    "axes[1].set_xticks(range(len(idxs)))\n",
    "axes[1].set_yticks(range(len(idxs)))\n",
    "axes[1].set_xticklabels(topk[\"verifier\"], rotation=90, fontsize=8)\n",
    "axes[1].set_yticklabels(topk[\"verifier\"], fontsize=8)\n",
    "fig.colorbar(im, ax=axes[1], fraction=0.046, pad=0.04)\n",
    "plt.tight_layout()\n",
    "plt.show()\n"
   ]
  },
  {
   "cell_type": "code",
   "execution_count": 21,
   "id": "874c27a6",
   "metadata": {},
   "outputs": [
    {
     "name": "stdout",
     "output_type": "stream",
     "text": [
      "Similarity: pearson, alpha=1.0, beta=0.7, agg=max\n",
      " 1. Qwen72B                         AUC=0.886  ACC*=0.872  score=0.886\n",
      " 2. GPM                             AUC=0.706  ACC*=0.799  score=0.699\n",
      " 3. InternLM2Reward7B               AUC=0.786  ACC*=0.807  score=0.621\n",
      " 4. QwenPRM_max                     AUC=0.745  ACC*=0.814  score=0.598\n",
      " 5. EurusPRMStage2_max              AUC=0.734  ACC*=0.808  score=0.556\n",
      " 6. QwenPRM_avg                     AUC=0.836  ACC*=0.829  score=0.514\n",
      " 7. LDLRewardGemma                  AUC=0.586  ACC*=0.799  score=0.500\n",
      " 8. EurusPRMStage2_avg              AUC=0.783  ACC*=0.799  score=0.473\n",
      " 9. Skyworks                        AUC=0.751  ACC*=0.811  score=0.320\n",
      "10. ArmorRM                         AUC=0.725  ACC*=0.799  score=0.309\n"
     ]
    }
   ],
   "source": [
    "# Driver: tune selection parameters here\n",
    "alpha = 1.0   # weight for utility (AUC)\n",
    "beta = 0.7    # penalty for similarity\n",
    "k_select = min(10, num_verifiers)\n",
    "agg = \"max\"   # \"max\" or \"mean\"\n",
    "sim_choice = \"pearson\"  # \"pearson\", \"cosine\", or \"co_agreement\"\n",
    "\n",
    "res = greedy_select(utility_vec, similarities[sim_choice], k=k_select, alpha=alpha, beta=beta, agg=agg)\n",
    "\n",
    "print(f\"Similarity: {sim_choice}, alpha={alpha}, beta={beta}, agg={agg}\")\n",
    "for rank, (idx, step_score) in enumerate(zip(res[\"order\"], res[\"step_scores\"])):\n",
    "    name = verifier_names[idx]\n",
    "    auc = auc_per_verifier[idx]\n",
    "    acc = acc_per_verifier[idx]\n",
    "    print(f\"{rank+1:2d}. {name:30s}  AUC={auc:0.3f}  ACC*={acc:0.3f}  score={step_score:0.3f}\")\n",
    "\n",
    "# Note: ACC* is best dev-threshold accuracy; production should re-fit or validate thresholds."
   ]
  },
  {
   "cell_type": "code",
   "execution_count": 22,
   "id": "8173ecc3",
   "metadata": {},
   "outputs": [
    {
     "data": {
      "text/plain": [
       "{'order': [20, 4, 19, 10, 16, 11, 22, 17, 1, 8],\n",
       " 'step_scores': [0.8859280719962992,\n",
       "  0.6992208225513707,\n",
       "  0.6207369027515355,\n",
       "  0.5983683499738043,\n",
       "  0.5555230175202749,\n",
       "  0.5140344079280383,\n",
       "  0.4998548077728313,\n",
       "  0.47348304699901883,\n",
       "  0.3203044519274914,\n",
       "  0.30861183899876593],\n",
       " 'verifiers': ['Qwen72B',\n",
       "  'GPM',\n",
       "  'InternLM2Reward7B',\n",
       "  'QwenPRM_max',\n",
       "  'EurusPRMStage2_max',\n",
       "  'QwenPRM_avg',\n",
       "  'LDLRewardGemma',\n",
       "  'EurusPRMStage2_avg',\n",
       "  'Skyworks',\n",
       "  'ArmorRM']}"
      ]
     },
     "execution_count": 22,
     "metadata": {},
     "output_type": "execute_result"
    }
   ],
   "source": [
    "res"
   ]
  },
  {
   "cell_type": "code",
   "execution_count": null,
   "id": "bf9ff742",
   "metadata": {},
   "outputs": [],
   "source": []
  }
 ],
 "metadata": {
  "kernelspec": {
   "display_name": "weaver",
   "language": "python",
   "name": "python3"
  },
  "language_info": {
   "codemirror_mode": {
    "name": "ipython",
    "version": 3
   },
   "file_extension": ".py",
   "mimetype": "text/x-python",
   "name": "python",
   "nbconvert_exporter": "python",
   "pygments_lexer": "ipython3",
   "version": "3.11.14"
  }
 },
 "nbformat": 4,
 "nbformat_minor": 5
}
