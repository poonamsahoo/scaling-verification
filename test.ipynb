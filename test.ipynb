{
 "cells": [
  {
   "cell_type": "code",
   "execution_count": 10,
   "id": "95c2f4bc",
   "metadata": {},
   "outputs": [
    {
     "name": "stdout",
     "output_type": "stream",
     "text": [
      "The autoreload extension is already loaded. To reload it, use:\n",
      "  %reload_ext autoreload\n"
     ]
    }
   ],
   "source": [
    "%load_ext autoreload\n",
    "%autoreload 2"
   ]
  },
  {
   "cell_type": "code",
   "execution_count": 9,
   "id": "a8ec73ce",
   "metadata": {},
   "outputs": [],
   "source": [
    "from verifier_selection import utils"
   ]
  },
  {
   "cell_type": "code",
   "execution_count": null,
   "id": "a934bd4a",
   "metadata": {},
   "outputs": [
    {
     "name": "stdout",
     "output_type": "stream",
     "text": [
      "Number of verifiers: 27\n"
     ]
    }
   ],
   "source": [
    "dataset = utils.load_dataset()\n",
    "dev_ds, test_ds = utils.dev_test_split(dataset)"
   ]
  },
  {
   "cell_type": "code",
   "execution_count": 31,
   "id": "bae89570",
   "metadata": {},
   "outputs": [
    {
     "name": "stdout",
     "output_type": "stream",
     "text": [
      "Number of verifiers: 27\n",
      "Ground truth shape: (10000,)\n",
      "Overall accuracy: 0.799\n",
      "Built parameter count vector. Missing: 0 of 27\n"
     ]
    }
   ],
   "source": [
    "### DO ON THE DEV SET FOR MODEL SELECTION ###\n",
    "scores_matrix, verifier_names = utils.extract_scores_matrix(dev_ds)\n",
    "similarities = utils.similarities_dict(scores_matrix)\n",
    "utilities = utils.utilities_dict(scores_matrix, dev_ds, verifier_names)\n",
    "param_counts = utils.costs_dict(verifier_names)"
   ]
  },
  {
   "cell_type": "markdown",
   "id": "1ea10988",
   "metadata": {},
   "source": [
    "## RUN HERE"
   ]
  },
  {
   "cell_type": "code",
   "execution_count": null,
   "id": "65c87828",
   "metadata": {},
   "outputs": [],
   "source": [
    "selected = utils.greedy_select(utilities,\n",
    "    similarities['pearson'],\n",
    "    verifier_names,\n",
    "    k=10, # number of verifiers to select\n",
    "    alpha=1.0, # utility weight\n",
    "    beta=1.0, # similarity weight\n",
    "    gamma=1.0, # parameter cost weight\n",
    "    param_counts=param_counts)"
   ]
  },
  {
   "cell_type": "code",
   "execution_count": 33,
   "id": "9a47ba8b",
   "metadata": {},
   "outputs": [
    {
     "data": {
      "text/plain": [
       "{'order': [9, 4, 17, 14, 10, 16, 19, 1, 8, 12],\n",
       " 'step_scores': [0.7436047227506392,\n",
       "  0.6027746643490175,\n",
       "  0.3829372618322771,\n",
       "  0.3305841106474302,\n",
       "  0.31983390267012163,\n",
       "  0.3053824051222599,\n",
       "  0.15947438180281037,\n",
       "  0.024612176655121443,\n",
       "  0.019018257113696257,\n",
       "  -0.0016732988724769277],\n",
       " 'verifiers': ['QwenPRM_min',\n",
       "  'GPM',\n",
       "  'EurusPRMStage2_avg',\n",
       "  'EurusPRMStage1_avg',\n",
       "  'QwenPRM_max',\n",
       "  'EurusPRMStage2_max',\n",
       "  'InternLM2Reward7B',\n",
       "  'Skyworks',\n",
       "  'ArmorRM',\n",
       "  'EurusPRMStage1_min'],\n",
       " 'param_counts': [7.0, 8.0, 7.0, 7.0, 7.0, 7.0, 7.0, 8.0, 8.0, 7.0]}"
      ]
     },
     "execution_count": 33,
     "metadata": {},
     "output_type": "execute_result"
    }
   ],
   "source": [
    "selected"
   ]
  },
  {
   "cell_type": "code",
   "execution_count": null,
   "id": "74bf9cb3",
   "metadata": {},
   "outputs": [],
   "source": []
  }
 ],
 "metadata": {
  "kernelspec": {
   "display_name": "weaver",
   "language": "python",
   "name": "python3"
  },
  "language_info": {
   "codemirror_mode": {
    "name": "ipython",
    "version": 3
   },
   "file_extension": ".py",
   "mimetype": "text/x-python",
   "name": "python",
   "nbconvert_exporter": "python",
   "pygments_lexer": "ipython3",
   "version": "3.11.14"
  }
 },
 "nbformat": 4,
 "nbformat_minor": 5
}
